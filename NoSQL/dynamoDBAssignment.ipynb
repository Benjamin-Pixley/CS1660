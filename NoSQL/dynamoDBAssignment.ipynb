{
 "cells": [
  {
   "cell_type": "code",
   "execution_count": 1,
   "metadata": {},
   "outputs": [
    {
     "name": "stdout",
     "output_type": "stream",
     "text": [
      "Collecting boto3\n",
      "  Downloading boto3-1.19.2-py3-none-any.whl (131 kB)\n",
      "Note: you may need to restart the kernel to use updated packages.Collecting jmespath<1.0.0,>=0.7.1\n",
      "  Downloading jmespath-0.10.0-py2.py3-none-any.whl (24 kB)\n",
      "\n",
      "Collecting s3transfer<0.6.0,>=0.5.0\n",
      "  Downloading s3transfer-0.5.0-py3-none-any.whl (79 kB)\n",
      "Collecting botocore<1.23.0,>=1.22.2\n",
      "  Downloading botocore-1.22.2-py3-none-any.whl (8.0 MB)\n",
      "Requirement already satisfied: python-dateutil<3.0.0,>=2.1 in c:\\users\\crash\\anaconda3\\lib\\site-packages (from botocore<1.23.0,>=1.22.2->boto3) (2.8.1)\n",
      "Requirement already satisfied: urllib3<1.27,>=1.25.4 in c:\\users\\crash\\anaconda3\\lib\\site-packages (from botocore<1.23.0,>=1.22.2->boto3) (1.25.11)\n",
      "Requirement already satisfied: six>=1.5 in c:\\users\\crash\\anaconda3\\lib\\site-packages (from python-dateutil<3.0.0,>=2.1->botocore<1.23.0,>=1.22.2->boto3) (1.15.0)\n",
      "Installing collected packages: jmespath, botocore, s3transfer, boto3\n",
      "Successfully installed boto3-1.19.2 botocore-1.22.2 jmespath-0.10.0 s3transfer-0.5.0\n"
     ]
    }
   ],
   "source": [
    "pip install boto3"
   ]
  },
  {
   "cell_type": "code",
   "execution_count": 2,
   "metadata": {},
   "outputs": [],
   "source": [
    "import boto3"
   ]
  },
  {
   "cell_type": "code",
   "execution_count": 3,
   "metadata": {},
   "outputs": [],
   "source": [
    "s3 = boto3.resource('s3',\n",
    "    aws_access_key_id='',\n",
    "    aws_secret_access_key=''\n",
    ")"
   ]
  },
  {
   "cell_type": "code",
   "execution_count": 8,
   "metadata": {},
   "outputs": [],
   "source": [
    "try:\n",
    "    s3.create_bucket(Bucket='datacont-benpixley', CreateBucketConfiguration={\n",
    "        'LocationConstraint': 'us-west-2'})\n",
    "except Exception as e:\n",
    "    print (e)"
   ]
  },
  {
   "cell_type": "code",
   "execution_count": 9,
   "metadata": {},
   "outputs": [
    {
     "data": {
      "text/plain": [
       "{'ResponseMetadata': {'RequestId': 'K7MWR2K5ZP1AD17C',\n",
       "  'HostId': 'LVNAMPSfU+zwvvQemcBVfUS64BaFDXm8MAjUFgQKJ+31kZ4X6fwOp7jJUB9sNFkimrljowsmt2A=',\n",
       "  'HTTPStatusCode': 200,\n",
       "  'HTTPHeaders': {'x-amz-id-2': 'LVNAMPSfU+zwvvQemcBVfUS64BaFDXm8MAjUFgQKJ+31kZ4X6fwOp7jJUB9sNFkimrljowsmt2A=',\n",
       "   'x-amz-request-id': 'K7MWR2K5ZP1AD17C',\n",
       "   'date': 'Sun, 24 Oct 2021 19:15:08 GMT',\n",
       "   'server': 'AmazonS3',\n",
       "   'content-length': '0'},\n",
       "  'RetryAttempts': 1}}"
      ]
     },
     "execution_count": 9,
     "metadata": {},
     "output_type": "execute_result"
    }
   ],
   "source": [
    "bucket = s3.Bucket(\"datacont-benpixley\")\n",
    "bucket.Acl().put(ACL='public-read')"
   ]
  },
  {
   "cell_type": "code",
   "execution_count": 11,
   "metadata": {},
   "outputs": [],
   "source": [
    "body = open('exp1.csv','rb')"
   ]
  },
  {
   "cell_type": "code",
   "execution_count": 12,
   "metadata": {},
   "outputs": [],
   "source": [
    "o = s3.Object('datacont-benpixley', 'test').put(Body=body )"
   ]
  },
  {
   "cell_type": "code",
   "execution_count": 13,
   "metadata": {},
   "outputs": [
    {
     "data": {
      "text/plain": [
       "{'ResponseMetadata': {'RequestId': 'XJMGC1A3N773R617',\n",
       "  'HostId': 'z1lJvRmQggZPMe6wXY12SbrVp9OcTgC1fkv8ypd5yi6Qbc+XFHVHP9T1V93rzcIfPEufbuWV7d8=',\n",
       "  'HTTPStatusCode': 200,\n",
       "  'HTTPHeaders': {'x-amz-id-2': 'z1lJvRmQggZPMe6wXY12SbrVp9OcTgC1fkv8ypd5yi6Qbc+XFHVHP9T1V93rzcIfPEufbuWV7d8=',\n",
       "   'x-amz-request-id': 'XJMGC1A3N773R617',\n",
       "   'date': 'Sun, 24 Oct 2021 19:18:04 GMT',\n",
       "   'server': 'AmazonS3',\n",
       "   'content-length': '0'},\n",
       "  'RetryAttempts': 0}}"
      ]
     },
     "execution_count": 13,
     "metadata": {},
     "output_type": "execute_result"
    }
   ],
   "source": [
    "s3.Object('datacont-benpixley', 'test').Acl().put(ACL='public-read')"
   ]
  },
  {
   "cell_type": "code",
   "execution_count": 68,
   "metadata": {},
   "outputs": [],
   "source": [
    "dyndb = boto3.resource('dynamodb',\n",
    "region_name='us-west-2',\n",
    "aws_access_key_id='',\n",
    "aws_secret_access_key=''\n",
    ")"
   ]
  },
  {
   "cell_type": "code",
   "execution_count": 82,
   "metadata": {},
   "outputs": [
    {
     "name": "stdout",
     "output_type": "stream",
     "text": [
      "An error occurred (ResourceInUseException) when calling the CreateTable operation: Table already exists: DataTable1\n"
     ]
    }
   ],
   "source": [
    "try:\n",
    "    table = dyndb.create_table(\n",
    "        TableName='DataTable1',\n",
    "        KeySchema=[\n",
    "            {\n",
    "                'AttributeName': 'PartitionKey',\n",
    "                'KeyType': 'HASH'\n",
    "            },\n",
    "            {\n",
    "                'AttributeName': 'RowKey',\n",
    "                'KeyType': 'RANGE'\n",
    "            }\n",
    "        ],\n",
    "        AttributeDefinitions=[\n",
    "            {\n",
    "                'AttributeName': 'PartitionKey',\n",
    "                'AttributeType': 'S'\n",
    "            },\n",
    "            {\n",
    "                'AttributeName': 'RowKey',\n",
    "                'AttributeType': 'S'\n",
    "            },\n",
    "        ],\n",
    "        ProvisionedThroughput={\n",
    "            'ReadCapacityUnits': 5,\n",
    "            'WriteCapacityUnits': 5\n",
    "        }\n",
    "    )\n",
    "except Exception as e:\n",
    "    print (e)\n",
    "    #if there is an exception, the table may already exist. if so...\n",
    "    table = dyndb.Table(\"DataTable1\")"
   ]
  },
  {
   "cell_type": "code",
   "execution_count": 75,
   "metadata": {},
   "outputs": [],
   "source": [
    "table.meta.client.get_waiter('table_exists').wait(TableName='DataTable1')"
   ]
  },
  {
   "cell_type": "code",
   "execution_count": 81,
   "metadata": {},
   "outputs": [
    {
     "name": "stdout",
     "output_type": "stream",
     "text": [
      "0\n"
     ]
    }
   ],
   "source": [
    "print(table.item_count)"
   ]
  },
  {
   "cell_type": "code",
   "execution_count": 83,
   "metadata": {},
   "outputs": [
    {
     "name": "stdout",
     "output_type": "stream",
     "text": [
      "['1', '-1', '52', '3.4', 'exp1.csv']\n",
      "['2', '-2', '52.1', '3.4', 'exp2.csv']\n",
      "['3', '-2.93', '57.1', '3.7', 'exp3.csv']\n"
     ]
    }
   ],
   "source": [
    "import csv\n",
    "with open('Master.csv', 'r') as csvfile:\n",
    "    csvf = csv.reader(csvfile, delimiter=',', quotechar='|')\n",
    "    for item in csvf:\n",
    "        if item[3] == 'Concentration':\n",
    "            continue\n",
    "        print(item)\n",
    "        body = open(''+item[4], 'r')\n",
    "        body = body.read().encode('utf-8');\n",
    "        s3.Object('datacont-benpixley', item[4]).put(Body=body)\n",
    "        md = s3.Object('datacont-benpixley', item[4]).Acl().put(ACL='public-read')\n",
    "        url = \" https://s3-us-west-2.amazonaws.com/datacont-benpixley/\"+item[4]\n",
    "        metadata_item = {'PartitionKey': item[4], 'RowKey': item[0], 'Temp': item[1], \n",
    "                         'Conductivity': item[2] , 'Concentration': item[3], 'url':url}\n",
    "        table.put_item(Item=metadata_item)"
   ]
  },
  {
   "cell_type": "code",
   "execution_count": 85,
   "metadata": {},
   "outputs": [
    {
     "name": "stdout",
     "output_type": "stream",
     "text": [
      "{'Temp': '-2', 'RowKey': '2', 'Conductivity': '52.1', 'Concentration': '3.4', 'PartitionKey': 'exp2.csv', 'url': ' https://s3-us-west-2.amazonaws.com/datacont-benpixley/exp2.csv'}\n"
     ]
    }
   ],
   "source": [
    "response = table.get_item(\n",
    "    Key={\n",
    "        'PartitionKey': 'exp2.csv',\n",
    "        'RowKey': '2'\n",
    "    }\n",
    ")\n",
    "item = response['Item']\n",
    "print(item)"
   ]
  },
  {
   "cell_type": "code",
   "execution_count": null,
   "metadata": {},
   "outputs": [],
   "source": []
  }
 ],
 "metadata": {
  "kernelspec": {
   "display_name": "Python 3",
   "language": "python",
   "name": "python3"
  },
  "language_info": {
   "codemirror_mode": {
    "name": "ipython",
    "version": 3
   },
   "file_extension": ".py",
   "mimetype": "text/x-python",
   "name": "python",
   "nbconvert_exporter": "python",
   "pygments_lexer": "ipython3",
   "version": "3.8.5"
  }
 },
 "nbformat": 4,
 "nbformat_minor": 4
}
